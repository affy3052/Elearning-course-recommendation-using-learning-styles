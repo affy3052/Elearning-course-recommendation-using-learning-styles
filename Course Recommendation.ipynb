{
 "cells": [
  {
   "cell_type": "code",
   "execution_count": 41,
   "id": "3a68a300",
   "metadata": {},
   "outputs": [],
   "source": [
    "import pandas as pd"
   ]
  },
  {
   "cell_type": "code",
   "execution_count": 84,
   "id": "2bd91d36",
   "metadata": {},
   "outputs": [
    {
     "name": "stdout",
     "output_type": "stream",
     "text": [
      "Your preferred learning style: sequential\n"
     ]
    }
   ],
   "source": [
    "learning_style = input(\"Your preferred learning style: \")"
   ]
  },
  {
   "cell_type": "code",
   "execution_count": 85,
   "id": "daab176f",
   "metadata": {},
   "outputs": [],
   "source": [
    "file_path = 'new_coursera_courses.xlsx'\n",
    "df = pd.read_excel(file_path)"
   ]
  },
  {
   "cell_type": "code",
   "execution_count": 86,
   "id": "a1661a2b",
   "metadata": {},
   "outputs": [
    {
     "name": "stdout",
     "output_type": "stream",
     "text": [
      "                                           Course Name  \\\n",
      "0            Python for Data Science, AI & Development   \n",
      "1                               Crash Course on Python   \n",
      "2                                 Python for Everybody   \n",
      "3                                 Python 3 Programming   \n",
      "4                     Google IT Automation with Python   \n",
      "..                                                 ...   \n",
      "995                     Developing Applications on AWS   \n",
      "996                                           Big Data   \n",
      "997                           Machine Learning for All   \n",
      "998                        Data-driven Decision Making   \n",
      "999  Introduction to High-Performance and Parallel ...   \n",
      "\n",
      "                                            Course URL  Rating     Level  \\\n",
      "0    https://www.coursera.org/learn/python-for-appl...     4.6  Beginner   \n",
      "1    https://www.coursera.org/learn/python-crash-co...     4.8  Beginner   \n",
      "2      https://www.coursera.org/specializations/python     4.8  Beginner   \n",
      "3    https://www.coursera.org/specializations/pytho...     4.7  Beginner   \n",
      "4    https://www.coursera.org/professional-certific...     4.7  Beginner   \n",
      "..                                                 ...     ...       ...   \n",
      "995  https://www.coursera.org/specializations/build...     4.8  Beginner   \n",
      "996  https://www.coursera.org/specializations/big-data     4.5  Beginner   \n",
      "997  https://www.coursera.org/learn/uol-machine-lea...     4.7  Beginner   \n",
      "998     https://www.coursera.org/learn/decision-making     4.6  Beginner   \n",
      "999  https://www.coursera.org/learn/introduction-hi...     3.2  Beginner   \n",
      "\n",
      "                         Type      Duration Learning Style  \n",
      "0                      Course  1 - 3 Months     Sequential  \n",
      "1                      Course  1 - 3 Months        Sensing  \n",
      "2              Specialization  3 - 6 Months     Reflective  \n",
      "3              Specialization  3 - 6 Months     Reflective  \n",
      "4    Professional Certificate  3 - 6 Months        Sensing  \n",
      "..                        ...           ...            ...  \n",
      "995            Specialization  1 - 3 Months     Reflective  \n",
      "996            Specialization  3 - 6 Months     Reflective  \n",
      "997                    Course   1 - 4 Weeks         Active  \n",
      "998                    Course   1 - 4 Weeks         Active  \n",
      "999                    Course   1 - 4 Weeks         Active  \n",
      "\n",
      "[1000 rows x 7 columns]\n"
     ]
    }
   ],
   "source": [
    "print(df)"
   ]
  },
  {
   "cell_type": "code",
   "execution_count": 87,
   "id": "264af27c",
   "metadata": {},
   "outputs": [],
   "source": [
    "df['Learning Style'] = df['Learning Style'].astype(str).str.strip()"
   ]
  },
  {
   "cell_type": "code",
   "execution_count": 88,
   "id": "c795830b",
   "metadata": {},
   "outputs": [],
   "source": [
    "filtered_data = df[df['Learning Style'].str.lower() == learning_style]"
   ]
  },
  {
   "cell_type": "code",
   "execution_count": 89,
   "id": "4882492f",
   "metadata": {},
   "outputs": [
    {
     "name": "stdout",
     "output_type": "stream",
     "text": [
      "                                           Course Name  \\\n",
      "0            Python for Data Science, AI & Development   \n",
      "17           Create Your First Python Program From UST   \n",
      "19   Using Python to Interact with the Operating Sy...   \n",
      "33       Python 101: Develop Your First Python Program   \n",
      "40                              Python Data Structures   \n",
      "..                                                 ...   \n",
      "902                     Jet Fighters Game using Pygame   \n",
      "905                      Introducción al Deep Learning   \n",
      "912  Digital Transformation with Google Cloud - בעברית   \n",
      "950           Master of Science in Information Systems   \n",
      "951     Master of Science in Data Science (Statistics)   \n",
      "\n",
      "                                            Course URL  Rating     Level  \\\n",
      "0    https://www.coursera.org/learn/python-for-appl...     4.6  Beginner   \n",
      "17   https://www.coursera.org/projects/first-python...     4.6  Beginner   \n",
      "19   https://www.coursera.org/learn/python-operatin...     4.7  Beginner   \n",
      "33   https://www.coursera.org/projects/python101-de...     4.7  Beginner   \n",
      "40          https://www.coursera.org/learn/python-data     4.9  Beginner   \n",
      "..                                                 ...     ...       ...   \n",
      "902  https://www.coursera.org/projects/jet-fighters...     NaN  Beginner   \n",
      "905  https://www.coursera.org/projects/introduccion...     NaN  Beginner   \n",
      "912  https://www.coursera.org/learn/digital-transfo...     4.6  Beginner   \n",
      "950  https://www.coursera.org/degrees/ms-informatio...     NaN    Degree   \n",
      "951  https://www.coursera.org/degrees/msc-data-scie...     NaN    Degree   \n",
      "\n",
      "               Type           Duration Learning Style  \n",
      "0            Course       1 - 3 Months     Sequential  \n",
      "17   Guided Project  Less Than 2 Hours     Sequential  \n",
      "19           Course       1 - 3 Months     Sequential  \n",
      "33   Guided Project  Less Than 2 Hours     Sequential  \n",
      "40           Course       1 - 3 Months     Sequential  \n",
      "..              ...                ...            ...  \n",
      "902  Guided Project  Less Than 2 Hours     Sequential  \n",
      "905  Guided Project  Less Than 2 Hours     Sequential  \n",
      "912          Course       1 - 3 Months     Sequential  \n",
      "950     1 - 4 Years                NaN     Sequential  \n",
      "951       24 months                NaN     Sequential  \n",
      "\n",
      "[76 rows x 7 columns]\n"
     ]
    }
   ],
   "source": [
    "print(filtered_data)"
   ]
  },
  {
   "cell_type": "code",
   "execution_count": 92,
   "id": "a3deb3be",
   "metadata": {},
   "outputs": [
    {
     "name": "stdout",
     "output_type": "stream",
     "text": [
      "Top 2 Recommended Courses:\n",
      "Course Name: Python Data Structures\n",
      "Course URL: https://www.coursera.org/learn/python-data\n",
      "Course Rating: 4.9\n",
      "\n",
      "Course Name: Using Databases with Python\n",
      "Course URL: https://www.coursera.org/learn/python-databases\n",
      "Course Rating: 4.8\n",
      "\n"
     ]
    }
   ],
   "source": [
    "if filtered_data.empty:\n",
    "    print(\"No courses found for the specified learning style.\")\n",
    "else:\n",
    "    # Check if all course ratings are NaN\n",
    "    if filtered_data['Rating'].isna().all():\n",
    "        print(\"All courses have no ratings available:\")\n",
    "        for index, course in filtered_data.iterrows():\n",
    "            print(\"Course Name:\", course['Course Name'])\n",
    "            print(\"Course URL:\", course['Course URL'])\n",
    "            print(\"Rating: Not available\\n\")\n",
    "    else:\n",
    "        # Drop rows with missing values in the 'Rating' column\n",
    "        filtered_data = filtered_data.dropna(subset=['Rating'])\n",
    "\n",
    "         # Find the top 2 courses based on ratings\n",
    "        top_courses = filtered_data.nlargest(2, 'Rating')\n",
    "\n",
    "        # Display the results for the top 2 courses\n",
    "        print(\"Top 2 Recommended Courses:\")\n",
    "        for index, course in top_courses.iterrows():\n",
    "            print(\"Course Name:\", course['Course Name'])\n",
    "            print(\"Course URL:\", course['Course URL'])\n",
    "            print(\"Course Rating:\", course['Rating'])\n",
    "            print()"
   ]
  },
  {
   "cell_type": "code",
   "execution_count": 2,
   "id": "575a1080",
   "metadata": {},
   "outputs": [],
   "source": [
    "import pandas as pd\n",
    "\n",
    "# Read the Excel file into a pandas DataFrame\n",
    "df = pd.read_excel('new_coursera_courses.xlsx')\n"
   ]
  },
  {
   "cell_type": "code",
   "execution_count": 4,
   "id": "b092b127",
   "metadata": {},
   "outputs": [],
   "source": [
    "# Assuming the learning style column is named 'LearningStyle' and course code column is named 'CourseCode'\n",
    "learning_style_counts = df['Learning Style'].value_counts()"
   ]
  },
  {
   "cell_type": "code",
   "execution_count": 5,
   "id": "b755096f",
   "metadata": {},
   "outputs": [],
   "source": [
    "# Calculate the total number of courses\n",
    "total_courses = len(df)"
   ]
  },
  {
   "cell_type": "code",
   "execution_count": 6,
   "id": "239a6780",
   "metadata": {},
   "outputs": [
    {
     "name": "stdout",
     "output_type": "stream",
     "text": [
      "Learning Style Percentages:\n",
      "Active: 36.80%\n",
      "Reflective: 28.60%\n",
      "Sensing: 14.10%\n",
      "Intuitive: 9.50%\n",
      "Sequential: 7.60%\n",
      "Verbal: 2.80%\n",
      "Global: 0.40%\n",
      "Visual: 0.20%\n"
     ]
    }
   ],
   "source": [
    "# Calculate the percentage of each learning style\n",
    "learning_style_percentages = (learning_style_counts / total_courses) * 100\n",
    "\n",
    "# Print the results\n",
    "print(\"Learning Style Percentages:\")\n",
    "for style, percentage in learning_style_percentages.items():\n",
    "    print(f\"{style}: {percentage:.2f}%\")"
   ]
  },
  {
   "cell_type": "code",
   "execution_count": null,
   "id": "3e73b97d",
   "metadata": {},
   "outputs": [],
   "source": []
  }
 ],
 "metadata": {
  "kernelspec": {
   "display_name": "Python 3 (ipykernel)",
   "language": "python",
   "name": "python3"
  },
  "language_info": {
   "codemirror_mode": {
    "name": "ipython",
    "version": 3
   },
   "file_extension": ".py",
   "mimetype": "text/x-python",
   "name": "python",
   "nbconvert_exporter": "python",
   "pygments_lexer": "ipython3",
   "version": "3.9.13"
  }
 },
 "nbformat": 4,
 "nbformat_minor": 5
}
